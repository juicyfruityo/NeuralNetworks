{
 "cells": [
  {
   "cell_type": "markdown",
   "metadata": {},
   "source": [
    "## Семинар 15: \"Обучение с подкреплением 2\""
   ]
  },
  {
   "cell_type": "markdown",
   "metadata": {},
   "source": [
    "ФИО: Устинов Иван Вадимович"
   ]
  },
  {
   "cell_type": "markdown",
   "metadata": {},
   "source": [
    "###  FrozenLake\n",
    "\n",
    "\n",
    "<img src=\"http://vignette2.wikia.nocookie.net/riseoftheguardians/images/4/4c/Jack's_little_sister_on_the_ice.jpg/revision/latest?cb=20141218030206\" alt=\"a random image to attract attention\" style=\"width: 400px;\"/>\n",
    "\n"
   ]
  },
  {
   "cell_type": "code",
   "execution_count": 1,
   "metadata": {
    "collapsed": false
   },
   "outputs": [],
   "source": [
    "import gym\n",
    "import numpy as np \n",
    "import random\n",
    "\n",
    "#create a single game instance\n",
    "env = gym.make(\"FrozenLake-v0\")\n",
    "\n",
    "#start new game\n",
    "env.reset();"
   ]
  },
  {
   "cell_type": "code",
   "execution_count": 2,
   "metadata": {
    "collapsed": false
   },
   "outputs": [
    {
     "name": "stdout",
     "output_type": "stream",
     "text": [
      "\n",
      "\u001b[41mS\u001b[0mFFF\n",
      "FHFH\n",
      "FFFH\n",
      "HFFG\n"
     ]
    }
   ],
   "source": [
    "# display the game state\n",
    "env.render()"
   ]
  },
  {
   "cell_type": "markdown",
   "metadata": {},
   "source": [
    "### legend\n",
    "\n",
    "![img](https://cdn-images-1.medium.com/max/800/1*MCjDzR-wfMMkS0rPqXSmKw.png)"
   ]
  },
  {
   "cell_type": "markdown",
   "metadata": {},
   "source": [
    "## Задание 1.\n",
    "Подберите значения alpha и epsilon и найдите приближение оптимальной Q-функции для Frozen Lake."
   ]
  },
  {
   "cell_type": "code",
   "execution_count": 3,
   "metadata": {
    "collapsed": true
   },
   "outputs": [],
   "source": [
    "\n",
    "class QLearn:\n",
    "    def __init__(self, actions, epsilon=0.1, alpha=0.2, gamma=0.9):\n",
    "        self.q = {}\n",
    "        self.epsilon = epsilon\n",
    "        self.alpha = alpha\n",
    "        self.gamma = gamma\n",
    "        self.actions = actions\n",
    "\n",
    "    def getQ(self, state, action):\n",
    "        return self.q.get((state, action), 0.0)\n",
    "\n",
    "    def learnQ(self, state, action, reward, value):\n",
    "        oldv = self.q.get((state, action), None)\n",
    "\n",
    "        if oldv is None:\n",
    "            self.q[(state, action)] = reward\n",
    "        else:\n",
    "            self.q[(state, action)] = oldv + self.alpha * (value - oldv)\n",
    "\n",
    "    def chooseAction(self, state):\n",
    "        if random.random() < self.epsilon:\n",
    "            action = random.choice(self.actions)\n",
    "        else:\n",
    "            q = [self.getQ(state, a) for a in self.actions]\n",
    "            maxQ = max(q)\n",
    "            count = q.count(maxQ)\n",
    "            if count > 1:\n",
    "                best = [i for i in range(len(self.actions)) if q[i] == maxQ]\n",
    "                i = random.choice(best)\n",
    "            else:\n",
    "                i = q.index(maxQ)\n",
    "\n",
    "            action = self.actions[i]\n",
    "        return action\n",
    "\n",
    "    def learn(self, state1, action1, reward, state2):\n",
    "        maxqnew = max([self.getQ(state2, a) for a in self.actions])\n",
    "        self.learnQ(state1, action1, reward, reward + self.gamma*maxqnew)"
   ]
  },
  {
   "cell_type": "code",
   "execution_count": null,
   "metadata": {
    "collapsed": true
   },
   "outputs": [],
   "source": []
  },
  {
   "cell_type": "code",
   "execution_count": 4,
   "metadata": {
    "collapsed": true
   },
   "outputs": [],
   "source": [
    "qlearn = QLearn(actions=range(env.env.nA), gamma=1, epsilon=0.1, alpha=0.2)"
   ]
  },
  {
   "cell_type": "code",
   "execution_count": 4,
   "metadata": {
    "collapsed": true
   },
   "outputs": [],
   "source": [
    "def run_episode_qlearn_learn(env, qlearn, gamma = 1.0, render = False):\n",
    "    obs = env.reset()\n",
    "    total_reward = 0\n",
    "    step_idx = 0\n",
    "    while True:\n",
    "        if render:\n",
    "            env.render()\n",
    "        action = qlearn.chooseAction(obs)\n",
    "        obs_new, reward, done, _ = env.step(action)\n",
    "        qlearn.learn(obs, action, reward, obs_new)\n",
    "        obs = obs_new\n",
    "        total_reward += (gamma ** step_idx * reward)\n",
    "        step_idx += 1\n",
    "        if done:\n",
    "            break\n",
    "    return total_reward"
   ]
  },
  {
   "cell_type": "code",
   "execution_count": 5,
   "metadata": {
    "collapsed": true
   },
   "outputs": [],
   "source": [
    "def run_episode_qlearn(env, qlearn, gamma = 1.0, render = False):\n",
    "    obs = env.reset()\n",
    "    total_reward = 0\n",
    "    step_idx = 0\n",
    "    while True:\n",
    "        if render:\n",
    "            env.render()\n",
    "        action = qlearn.chooseAction(obs)\n",
    "        obs_new, reward, done, _ = env.step(action)\n",
    "        obs = obs_new\n",
    "        total_reward += (gamma ** step_idx * reward)\n",
    "        step_idx += 1\n",
    "        if done:\n",
    "            break\n",
    "    return total_reward"
   ]
  },
  {
   "cell_type": "code",
   "execution_count": 6,
   "metadata": {
    "collapsed": true
   },
   "outputs": [],
   "source": [
    "def evaluate_qlearn(env, qlearn, gamma = 1.0,  n = 100):\n",
    "    scores = [\n",
    "            run_episode_qlearn(env, qlearn, gamma = gamma, render = False)\n",
    "            for _ in range(n)]\n",
    "    return np.mean(scores)"
   ]
  },
  {
   "cell_type": "code",
   "execution_count": 8,
   "metadata": {
    "collapsed": true
   },
   "outputs": [],
   "source": [
    "env = gym.make(\"FrozenLake-v0\")"
   ]
  },
  {
   "cell_type": "code",
   "execution_count": 39,
   "metadata": {
    "collapsed": false
   },
   "outputs": [
    {
     "data": {
      "text/plain": [
       "0.35142174645041141"
      ]
     },
     "execution_count": 39,
     "metadata": {},
     "output_type": "execute_result"
    }
   ],
   "source": [
    "gamma = 0.98\n",
    "qlearn = QLearn(actions=range(env.env.nA), gamma=gamma, epsilon=0.02, alpha=0.3)\n",
    "\n",
    "for i in range(10000):\n",
    "    run_episode_qlearn_learn(env, qlearn, gamma=gamma)\n",
    "    \n",
    "evaluate_qlearn(env, qlearn, gamma=gamma,  n=1000)"
   ]
  },
  {
   "cell_type": "code",
   "execution_count": 28,
   "metadata": {
    "collapsed": false,
    "scrolled": true
   },
   "outputs": [
    {
     "data": {
      "text/plain": [
       "0.68500000000000005"
      ]
     },
     "execution_count": 28,
     "metadata": {},
     "output_type": "execute_result"
    }
   ],
   "source": [
    "gamma = 1\n",
    "qlearn = QLearn(actions=range(env.env.nA), gamma=gamma, epsilon=0.01, alpha=0.2)\n",
    "\n",
    "for i in range(10000):\n",
    "    run_episode_qlearn_learn(env, qlearn, gamma=gamma)\n",
    "    \n",
    "evaluate_qlearn(env, qlearn, gamma=gamma,  n=1000)"
   ]
  },
  {
   "cell_type": "markdown",
   "metadata": {
    "collapsed": true
   },
   "source": [
    "## Задание 2.\n",
    "Обучите сеть DQN для среды http://gym.openai.com/envs/Pong-v0/ "
   ]
  },
  {
   "cell_type": "code",
   "execution_count": 8,
   "metadata": {
    "collapsed": false
   },
   "outputs": [],
   "source": [
    "import torch\n",
    "from torch.autograd import Variable\n",
    "import torch.nn as nn\n",
    "import cv2\n",
    "import torch.optim as optim\n",
    "import time"
   ]
  },
  {
   "cell_type": "code",
   "execution_count": 11,
   "metadata": {
    "collapsed": true
   },
   "outputs": [],
   "source": [
    "class MemoryReplay(object):\n",
    "\n",
    "    def __init__(self,\n",
    "                 max_size=10000,\n",
    "                 bs=64,\n",
    "                 im_size=84,\n",
    "                 stack=4):\n",
    "\n",
    "        self.s = np.zeros((max_size, stack+1, im_size, im_size), dtype=np.float32)\n",
    "        self.r = np.zeros(max_size, dtype=np.float32)\n",
    "        self.a = np.zeros(max_size, dtype=np.int32)\n",
    "        self.done = np.array([True]*max_size)\n",
    "\n",
    "        self.max_size = max_size\n",
    "        self.bs = bs\n",
    "        self._cursor = None\n",
    "        self.total_idx = list(range(self.max_size))\n",
    "\n",
    "\n",
    "    def put(self, sras):\n",
    "\n",
    "        if self._cursor == (self.max_size-1) or self._cursor is None :\n",
    "            self._cursor = 0\n",
    "        else:\n",
    "            self._cursor += 1\n",
    "\n",
    "        self.s[self._cursor] = sras[0]\n",
    "        self.a[self._cursor] = sras[1]\n",
    "        self.r[self._cursor] = sras[2]\n",
    "        self.done[self._cursor] = sras[3]\n",
    "\n",
    "\n",
    "    def batch(self):\n",
    "\n",
    "        sample_idx = random.sample(self.total_idx, self.bs)\n",
    "        s = self.s[sample_idx, :4]\n",
    "        a = self.a[sample_idx]\n",
    "        r = self.r[sample_idx]\n",
    "        ss = self.s[sample_idx, 1:]\n",
    "        done = self.done[sample_idx]\n",
    "\n",
    "        return s, a, r, ss, done"
   ]
  },
  {
   "cell_type": "code",
   "execution_count": 10,
   "metadata": {
    "collapsed": true
   },
   "outputs": [],
   "source": [
    "class DQN(nn.Module):\n",
    "\n",
    "    def __init__(self):\n",
    "\n",
    "        super(DQN, self).__init__()\n",
    "\n",
    "        self.model = nn.Sequential(\n",
    "            nn.Conv2d(4, 8, 8, 4, 0),\n",
    "            nn.ReLU(inplace=True),\n",
    "            nn.Conv2d(8, 16, 4, 2, 0)\n",
    "        )\n",
    "        self.classifier = nn.Sequential(nn.Linear(16, 12),\n",
    "                                        nn.ReLU(),\n",
    "                                        nn.Linear(12, 3)\n",
    "                                       )\n",
    "\n",
    "    def forward(self, x):\n",
    "        x = self.model(x).squeeze()\n",
    "        x = x.view(-1, 16)\n",
    "        x = self.classifier(x)\n",
    "        return x"
   ]
  },
  {
   "cell_type": "code",
   "execution_count": 12,
   "metadata": {
    "collapsed": true
   },
   "outputs": [],
   "source": [
    "class Pong(object):\n",
    "\n",
    "    def __init__(self):\n",
    "\n",
    "        self.env = gym.make('Pong-v0')\n",
    "        self.current_phi = None\n",
    "        self.reset()\n",
    "\n",
    "    def step(self, action):\n",
    "\n",
    "        obs, r, done, info = self.env.step(action)\n",
    "        obs = self._rbg2gray(obs)\n",
    "        phi_next = self._phi(obs)\n",
    "\n",
    "        phi_phi = np.vstack([self.current_phi, obs[np.newaxis]])\n",
    "        self.current_phi = phi_next\n",
    "\n",
    "        return phi_phi, r, done\n",
    "\n",
    "    def reset(self):\n",
    "        x = self.env.reset()\n",
    "        x = self._rbg2gray(x)\n",
    "        phi = np.stack([x, x, x, x])\n",
    "        self.current_phi = phi\n",
    "\n",
    "        return phi\n",
    "\n",
    "    def _rbg2gray(self, x):\n",
    "        x = x.astype('float32')\n",
    "        x = cv2.cvtColor(x, cv2.COLOR_RGB2GRAY)\n",
    "        x = cv2.resize(x, (84, 84))/127.5 - 1.\n",
    "\n",
    "        return x\n",
    "\n",
    "    def _phi(self, x):\n",
    "\n",
    "        new_phi = np.zeros((4, 84, 84), dtype=np.float32)\n",
    "        new_phi[:3] = self.current_phi[1:]\n",
    "        new_phi[-1] = x\n",
    "\n",
    "        return new_phi\n",
    "\n",
    "    def display(self):\n",
    "        self.env.render()"
   ]
  },
  {
   "cell_type": "code",
   "execution_count": 13,
   "metadata": {
    "collapsed": true
   },
   "outputs": [],
   "source": [
    "def sample_action(env, agent, var_phi, epsilon):\n",
    "\n",
    "    if random.uniform(0, 1) > epsilon:\n",
    "        phi = env.current_phi\n",
    "        var_phi.data.copy_(torch.from_numpy(phi))\n",
    "\n",
    "        q_values = agent(var_phi)\n",
    "        max_q, act_index = q_values.max(dim=0)\n",
    "        act_index = np.asscalar(act_index.data.cpu().numpy())\n",
    "    else:\n",
    "        act_index = random.randrange(3)\n",
    "\n",
    "    return act_index"
   ]
  },
  {
   "cell_type": "code",
   "execution_count": 14,
   "metadata": {
    "collapsed": true
   },
   "outputs": [],
   "source": [
    "def run_episode_dqn(pong, dqn, gamma = 1.0, render = False):\n",
    "    VALID_ACTION = [0, 2, 5]\n",
    "    obs = env.reset()\n",
    "    var_phi = Variable(torch.Tensor(1, 4, 84, 84), volatile=True)\n",
    "    total_reward = 0\n",
    "    step_idx = 0\n",
    "    while True:\n",
    "        if render:\n",
    "            env.render()\n",
    "        act_index = sample_action(pong, dqn, var_phi)\n",
    "        obs_new, reward, done = pong.step(VALID_ACTION[act_index])\n",
    "        obs = obs_new\n",
    "        #total_reward += (gamma ** step_idx * reward)\n",
    "        total_reward += reward\n",
    "        step_idx += 1\n",
    "        if done:\n",
    "            break\n",
    "    return total_reward"
   ]
  },
  {
   "cell_type": "code",
   "execution_count": 15,
   "metadata": {
    "collapsed": true
   },
   "outputs": [],
   "source": [
    "def evaluate_dqn(env, dqn, gamma = 1.0,  n = 100):\n",
    "    scores = [\n",
    "            run_episode_dqn(env, dqn, gamma = gamma, render = False)\n",
    "            for _ in range(n)]\n",
    "    return np.mean(scores)"
   ]
  },
  {
   "cell_type": "code",
   "execution_count": 17,
   "metadata": {
    "collapsed": false
   },
   "outputs": [
    {
     "name": "stderr",
     "output_type": "stream",
     "text": [
      "/home/ivan.ustinov/anaconda3/lib/python3.6/site-packages/ipykernel/__main__.py:8: UserWarning: volatile was removed and now has no effect. Use `with torch.no_grad():` instead.\n",
      "/home/ivan.ustinov/anaconda3/lib/python3.6/site-packages/numpy/core/numeric.py:301: FutureWarning: in the future, full((210, 160, 3), 0) will return an array of dtype('int64')\n",
      "  format(shape, fill_value, array(fill_value).dtype), FutureWarning)\n",
      "/home/ivan.ustinov/anaconda3/lib/python3.6/site-packages/numpy/core/numeric.py:301: FutureWarning: in the future, full((210, 160, 3), 255) will return an array of dtype('int64')\n",
      "  format(shape, fill_value, array(fill_value).dtype), FutureWarning)\n"
     ]
    }
   ],
   "source": [
    "VALID_ACTION = [0, 3, 4]\n",
    "GAMMA = 0.99\n",
    "epsilon = 0.5\n",
    "memory_size = 2000\n",
    "max_epoch = 100\n",
    "batch_size = 64\n",
    "\n",
    "var_phi = Variable(torch.Tensor(1, 4, 84, 84), volatile=True)\n",
    "\n",
    "var_batch_phi = Variable(torch.Tensor(batch_size, 4, 84, 84))\n",
    "var_batch_a = Variable(torch.LongTensor(batch_size, 1), requires_grad=False)\n",
    "var_batch_r = Variable(torch.Tensor(batch_size, 1))\n",
    "var_batch_phi_next = Variable(torch.Tensor(batch_size, 4, 84, 84))\n",
    "var_batch_r_mask = Variable(torch.Tensor(batch_size, 1), requires_grad=False)\n",
    "\n",
    "pong = Pong()\n",
    "MP = MemoryReplay(memory_size, batch_size)\n",
    "dqn = DQN()\n",
    "target_dqn = DQN()\n",
    "optimz = optim.RMSprop(dqn.parameters(), lr=0.0025, alpha=0.9, eps=1e-02, momentum=0.0)"
   ]
  },
  {
   "cell_type": "code",
   "execution_count": 19,
   "metadata": {
    "collapsed": false
   },
   "outputs": [],
   "source": [
    "for i in range(memory_size):\n",
    "    phi = pong.current_phi\n",
    "    act_index = random.randrange(3)\n",
    "    phi_next, r, done = pong.step(VALID_ACTION[act_index])\n",
    "#     pong.display()\n",
    "    MP.put((phi_next, act_index, r, done))\n",
    "\n",
    "    if done:\n",
    "        pong.reset()"
   ]
  },
  {
   "cell_type": "code",
   "execution_count": 20,
   "metadata": {
    "collapsed": true
   },
   "outputs": [],
   "source": [
    "\n",
    "score = 0.\n",
    "avg_score = -21.0\n",
    "\n",
    "SCORE = []\n",
    "QVALUE = []\n",
    "QVALUE_MEAN = []\n",
    "QVALUE_STD = []"
   ]
  },
  {
   "cell_type": "code",
   "execution_count": 22,
   "metadata": {
    "collapsed": false,
    "scrolled": true
   },
   "outputs": [
    {
     "name": "stdout",
     "output_type": "stream",
     "text": [
      "Epoch: 0. Avg.Score:-20.900000\n",
      "Epoch: 1. Avg.Score:-20.810000\n",
      "Epoch: 2. Avg.Score:-20.829000\n",
      "Epoch: 3. Avg.Score:-20.846100\n",
      "Epoch: 4. Avg.Score:-20.861490\n",
      "Epoch: 5. Avg.Score:-20.875341\n",
      "Epoch: 6. Avg.Score:-20.687807\n",
      "Epoch: 7. Avg.Score:-20.719026\n",
      "Epoch: 8. Avg.Score:-20.747124\n",
      "Epoch: 9. Avg.Score:-20.772411\n",
      "Epoch: 10. Avg.Score:-20.695170\n",
      "Epoch: 11. Avg.Score:-20.725653\n",
      "Epoch: 12. Avg.Score:-20.753088\n",
      "Epoch: 13. Avg.Score:-20.777779\n",
      "Epoch: 14. Avg.Score:-20.700001\n",
      "Epoch: 15. Avg.Score:-20.730001\n",
      "Epoch: 16. Avg.Score:-20.757001\n",
      "Epoch: 17. Avg.Score:-20.681301\n",
      "Epoch: 18. Avg.Score:-20.613171\n",
      "Epoch: 19. Avg.Score:-20.551854\n",
      "Epoch: 20. Avg.Score:-20.596668\n",
      "Epoch: 21. Avg.Score:-20.637001\n",
      "Epoch: 22. Avg.Score:-20.673301\n",
      "Epoch: 23. Avg.Score:-20.605971\n",
      "Epoch: 24. Avg.Score:-20.645374\n",
      "Epoch: 25. Avg.Score:-20.680837\n",
      "Epoch: 26. Avg.Score:-20.612753\n",
      "Epoch: 27. Avg.Score:-20.651478\n",
      "Epoch: 28. Avg.Score:-20.686330\n",
      "Epoch: 29. Avg.Score:-20.717697\n",
      "Epoch: 30. Avg.Score:-20.745927\n",
      "Epoch: 31. Avg.Score:-20.771335\n",
      "Epoch: 32. Avg.Score:-20.794201\n",
      "Epoch: 33. Avg.Score:-20.814781\n",
      "Epoch: 34. Avg.Score:-20.733303\n",
      "Epoch: 35. Avg.Score:-20.659973\n",
      "Epoch: 36. Avg.Score:-20.693975\n",
      "Epoch: 37. Avg.Score:-20.624578\n",
      "Epoch: 38. Avg.Score:-20.662120\n",
      "Epoch: 39. Avg.Score:-20.695908\n",
      "Epoch: 40. Avg.Score:-20.726317\n",
      "Epoch: 41. Avg.Score:-20.753685\n",
      "Epoch: 42. Avg.Score:-20.478317\n",
      "Epoch: 43. Avg.Score:-20.530485\n",
      "Epoch: 44. Avg.Score:-20.577437\n",
      "Epoch: 45. Avg.Score:-20.519693\n",
      "Epoch: 46. Avg.Score:-20.467724\n",
      "Epoch: 47. Avg.Score:-20.520951\n",
      "Epoch: 48. Avg.Score:-20.368856\n",
      "Epoch: 49. Avg.Score:-20.431971\n",
      "Epoch: 50. Avg.Score:-20.488774\n",
      "Epoch: 51. Avg.Score:-20.539896\n",
      "Epoch: 52. Avg.Score:-20.585907\n",
      "Epoch: 53. Avg.Score:-20.427316\n",
      "Epoch: 54. Avg.Score:-20.284584\n",
      "Epoch: 55. Avg.Score:-20.256126\n",
      "Epoch: 56. Avg.Score:-20.330513\n",
      "Epoch: 57. Avg.Score:-20.197462\n",
      "Epoch: 58. Avg.Score:-20.277716\n",
      "Epoch: 59. Avg.Score:-20.349944\n",
      "Epoch: 60. Avg.Score:-20.414950\n",
      "Epoch: 61. Avg.Score:-20.473455\n",
      "Epoch: 62. Avg.Score:-20.526109\n",
      "Epoch: 63. Avg.Score:-20.473498\n",
      "Epoch: 64. Avg.Score:-20.526149\n",
      "Epoch: 65. Avg.Score:-20.573534\n",
      "Epoch: 66. Avg.Score:-20.616180\n",
      "Epoch: 67. Avg.Score:-20.554562\n",
      "Epoch: 68. Avg.Score:-20.399106\n",
      "Epoch: 69. Avg.Score:-20.459195\n",
      "Epoch: 70. Avg.Score:-20.413276\n",
      "Epoch: 71. Avg.Score:-20.471948\n",
      "Epoch: 72. Avg.Score:-20.524753\n",
      "Epoch: 73. Avg.Score:-20.572278\n",
      "Epoch: 74. Avg.Score:-20.515050\n",
      "Epoch: 75. Avg.Score:-20.363545\n",
      "Epoch: 76. Avg.Score:-20.327191\n",
      "Epoch: 77. Avg.Score:-20.394472\n",
      "Epoch: 78. Avg.Score:-20.455025\n",
      "Epoch: 79. Avg.Score:-20.509522\n",
      "Epoch: 80. Avg.Score:-20.358570\n",
      "Epoch: 81. Avg.Score:-20.422713\n",
      "Epoch: 82. Avg.Score:-20.480442\n",
      "Epoch: 83. Avg.Score:-20.432397\n",
      "Epoch: 84. Avg.Score:-20.489158\n",
      "Epoch: 85. Avg.Score:-20.440242\n",
      "Epoch: 86. Avg.Score:-20.496218\n",
      "Epoch: 87. Avg.Score:-20.446596\n",
      "Epoch: 88. Avg.Score:-20.401936\n",
      "Epoch: 89. Avg.Score:-20.461743\n",
      "Epoch: 90. Avg.Score:-20.515568\n",
      "Epoch: 91. Avg.Score:-20.564012\n",
      "Epoch: 92. Avg.Score:-20.507610\n",
      "Epoch: 93. Avg.Score:-20.456849\n",
      "Epoch: 94. Avg.Score:-20.511164\n",
      "Epoch: 95. Avg.Score:-20.560048\n",
      "Epoch: 96. Avg.Score:-20.604043\n",
      "Epoch: 97. Avg.Score:-20.643639\n",
      "Epoch: 98. Avg.Score:-20.579275\n",
      "Epoch: 99. Avg.Score:-20.621348\n"
     ]
    }
   ],
   "source": [
    "pong.reset()\n",
    "\n",
    "for epoch in range(max_epoch): \n",
    "\n",
    "    while not done:\n",
    "\n",
    "        optimz.zero_grad()\n",
    "\n",
    "        act_index = sample_action(pong, dqn, var_phi, epsilon)\n",
    "\n",
    "        epsilon = (epsilon - 1e-6) if epsilon > 0.1 else  0.1\n",
    "        phi_next, r, done = pong.step(VALID_ACTION[act_index])\n",
    "#         pong.display()\n",
    "        MP.put((phi_next, act_index, r, done))\n",
    "        r = np.clip(r, -1, 1)\n",
    "        score += r\n",
    "\n",
    "        batch_phi, batch_a, batch_r, batch_phi_next, batch_done = MP.batch()\n",
    "        var_batch_phi_next.data.copy_(torch.from_numpy(batch_phi_next))\n",
    "        batch_target_q, _ = target_dqn(var_batch_phi_next).max(dim=1)\n",
    "\n",
    "        mask_index = np.ones((batch_size, 1))\n",
    "        mask_index[batch_done] = 0.0\n",
    "        var_batch_r_mask.data.copy_(torch.from_numpy(mask_index))\n",
    "\n",
    "        var_batch_r.data.copy_(torch.from_numpy(batch_r.reshape((batch_size, 1))))\n",
    "\n",
    "        y = var_batch_r + batch_target_q.mul(GAMMA).mul(var_batch_r_mask)\n",
    "        y = y.detach()\n",
    "\n",
    "        var_batch_phi.data.copy_(torch.from_numpy(batch_phi))\n",
    "        batch_q = dqn(var_batch_phi)\n",
    "\n",
    "        var_batch_a.data.copy_(torch.from_numpy(batch_a).long().view(-1, 1))\n",
    "        batch_q = batch_q.gather(1, var_batch_a)\n",
    "\n",
    "        loss = y.sub(batch_q).pow(2).mean()\n",
    "        loss.backward()\n",
    "        optimz.step()\n",
    "\n",
    "        QVALUE.append(batch_q.data.cpu().numpy().mean())\n",
    "\n",
    "    SCORE.append(score)\n",
    "    QVALUE_MEAN.append(np.mean(QVALUE))\n",
    "    QVALUE_STD.append(np.std(QVALUE))\n",
    "    QVALUE = []\n",
    "\n",
    "    pong.reset()\n",
    "    done = False\n",
    "    avg_score = 0.9*avg_score + 0.1*score\n",
    "    score = 0.0\n",
    "    print('Epoch: {0}. Avg.Score:{1:6f}'.format(epoch, avg_score))"
   ]
  },
  {
   "cell_type": "code",
   "execution_count": null,
   "metadata": {
    "collapsed": true
   },
   "outputs": [],
   "source": []
  }
 ],
 "metadata": {
  "kernelspec": {
   "display_name": "Python 3",
   "language": "python",
   "name": "python3"
  },
  "language_info": {
   "codemirror_mode": {
    "name": "ipython",
    "version": 3
   },
   "file_extension": ".py",
   "mimetype": "text/x-python",
   "name": "python",
   "nbconvert_exporter": "python",
   "pygments_lexer": "ipython3",
   "version": "3.6.3"
  }
 },
 "nbformat": 4,
 "nbformat_minor": 1
}
