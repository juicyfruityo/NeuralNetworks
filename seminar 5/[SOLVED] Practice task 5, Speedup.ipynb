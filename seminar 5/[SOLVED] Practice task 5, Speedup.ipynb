{
 "cells": [
  {
   "cell_type": "markdown",
   "metadata": {},
   "source": [
    "## Семинар 5: \"Улучшение сходимости нейросетей\""
   ]
  },
  {
   "cell_type": "markdown",
   "metadata": {},
   "source": [
    "ФИО: Устинов Иван Вадимович"
   ]
  },
  {
   "cell_type": "code",
   "execution_count": 57,
   "metadata": {},
   "outputs": [],
   "source": [
    "import numpy as np\n",
    "from sklearn.datasets import fetch_mldata\n",
    "from sklearn.model_selection import train_test_split\n",
    "import matplotlib.pyplot as plt\n",
    "import torch\n",
    "from torch import nn\n",
    "from torch.autograd import Variable\n",
    "from torch.utils.data import DataLoader\n",
    "from torchvision.datasets import MNIST\n",
    "from torchvision import transforms\n",
    "import train_utils\n",
    "%matplotlib inline\n",
    "\n",
    "import warnings\n",
    "warnings.filterwarnings(\"ignore\")"
   ]
  },
  {
   "cell_type": "markdown",
   "metadata": {},
   "source": [
    "На этом семинаре мы попробуем улучшить результаты, полученные на предыдущем занятии\n",
    "Для этого нам понадобятся следующие вещи:\n",
    "* Dropout\n",
    "* Batch Normalization\n",
    "* Инициализация весов"
   ]
  },
  {
   "cell_type": "markdown",
   "metadata": {},
   "source": [
    "### Часть 1: Инициализация весов"
   ]
  },
  {
   "cell_type": "markdown",
   "metadata": {},
   "source": [
    "На лекции доказывалось, что при инициализации He и Glorot дисперсия активаций градиентов в каждом слое будут примерно равны. Давайте проверим это. "
   ]
  },
  {
   "cell_type": "code",
   "execution_count": 21,
   "metadata": {},
   "outputs": [],
   "source": [
    "# Dataloader\n",
    "to_numpy = lambda x: x.numpy()\n",
    "transform = transforms.Compose([\n",
    "                       transforms.ToTensor(),\n",
    "                       transforms.Normalize((0.1307,), (0.3081,))\n",
    "                    ])\n",
    "train_dataset = MNIST('.', train=True, download=True, transform=transform)\n",
    "test_dataset = MNIST('.', train=False, transform=transform)\n",
    "\n",
    "train_loader = DataLoader(train_dataset, batch_size=128, shuffle=True)\n",
    "test_loader = DataLoader(test_dataset, batch_size=128, shuffle=True)"
   ]
  },
  {
   "cell_type": "code",
   "execution_count": 22,
   "metadata": {},
   "outputs": [],
   "source": [
    "images_train, labels_train = next(iter(train_loader))"
   ]
  },
  {
   "cell_type": "code",
   "execution_count": 23,
   "metadata": {},
   "outputs": [],
   "source": [
    "## Usage example:\n",
    "for X, y in train_loader:\n",
    "    X = X.view(X.size(0), -1)\n",
    "    X = X.numpy() ### Converts torch.Tensor to numpy array\n",
    "    y = y.numpy()\n",
    "    pass"
   ]
  },
  {
   "cell_type": "code",
   "execution_count": 24,
   "metadata": {},
   "outputs": [
    {
     "data": {
      "image/png": "[encoded data removed]",
      "text/plain": [
       "<Figure size 432x504 with 25 Axes>"
      ]
     },
     "metadata": {},
     "output_type": "display_data"
    }
   ],
   "source": [
    "plt.figure(figsize=(6, 7))\n",
    "for i in range(25):\n",
    "    plt.subplot(5, 5, i+1)\n",
    "    plt.imshow(X[i].reshape(28, 28), cmap=plt.cm.Greys_r)\n",
    "    plt.title(y[i])\n",
    "    plt.axis('off')"
   ]
  },
  {
   "cell_type": "markdown",
   "metadata": {},
   "source": [
    "<i> 1.1 </i> Инициализируйте полносвязную сеть нормальным шумом N(0, 0.1) с архитектурой 784 -> 500 x (10 раз) -> 10. В качестве активации возьмите tanh"
   ]
  },
  {
   "cell_type": "code",
   "execution_count": 53,
   "metadata": {},
   "outputs": [],
   "source": [
    "def init_layer(layer, mean=0, std=1):\n",
    "    # Тут надо быть аккуратным — можно случайно создать копию и менять значения у копии\n",
    "    weight = layer.state_dict()['weight']\n",
    "    bias = layer.state_dict()['bias']\n",
    "    bias.zero_()\n",
    "    weight.normal_(mean=0, std=std)\n",
    "\n",
    "def forward_hook(self, input_, output):\n",
    "#     print(input_[0][0])\n",
    "    std = input_[0].std().data # [0]\n",
    "    print ('forward', std)\n",
    "\n",
    "def backward_hook(self, grad_input, grad_output):\n",
    "    std = grad_input[0].std().data # [0]\n",
    "    print ('backward', std)\n",
    "\n",
    "    \n",
    "# пример:\n",
    "layer = nn.Linear(28*28, 10)\n",
    "layer.register_forward_hook(forward_hook)\n",
    "layer.register_backward_hook(backward_hook)\n",
    "init_layer(layer, 0.0, 0.1) # сюда надо подставить другие параметры"
   ]
  },
  {
   "cell_type": "markdown",
   "metadata": {},
   "source": [
    "<i>1.2 Пропустите батч изображений через нейронную сеть и вычислите дисперсию активаций. Затем вычислите градиент и получите дисперсию градиентов. Сравните эти значения между собой для разных слоев.</i>"
   ]
  },
  {
   "cell_type": "code",
   "execution_count": 54,
   "metadata": {},
   "outputs": [],
   "source": [
    "def new_linear_layer(input_size, output_size, mean, std):\n",
    "    layer = nn.Linear(input_size, output_size)\n",
    "    layer.register_forward_hook(forward_hook)\n",
    "    layer.register_backward_hook(backward_hook)\n",
    "    init_layer(layer, mean, std)\n",
    "    return layer"
   ]
  },
  {
   "cell_type": "code",
   "execution_count": 73,
   "metadata": {},
   "outputs": [
    {
     "data": {
      "text/plain": [
       "Sequential(\n",
       "  (0): Linear(in_features=784, out_features=500, bias=True)\n",
       "  (1): ReLU()\n",
       "  (2): Linear(in_features=500, out_features=500, bias=True)\n",
       "  (3): ReLU()\n",
       "  (4): Linear(in_features=500, out_features=500, bias=True)\n",
       "  (5): ReLU()\n",
       "  (6): Linear(in_features=500, out_features=500, bias=True)\n",
       "  (7): ReLU()\n",
       "  (8): Linear(in_features=500, out_features=500, bias=True)\n",
       "  (9): ReLU()\n",
       "  (10): Linear(in_features=500, out_features=500, bias=True)\n",
       "  (11): ReLU()\n",
       "  (12): Linear(in_features=500, out_features=500, bias=True)\n",
       "  (13): ReLU()\n",
       "  (14): Linear(in_features=500, out_features=500, bias=True)\n",
       "  (15): ReLU()\n",
       "  (16): Linear(in_features=500, out_features=500, bias=True)\n",
       "  (17): ReLU()\n",
       "  (18): Linear(in_features=500, out_features=500, bias=True)\n",
       "  (19): ReLU()\n",
       "  (20): Linear(in_features=500, out_features=500, bias=True)\n",
       "  (21): ReLU()\n",
       "  (22): Linear(in_features=500, out_features=10, bias=True)\n",
       "  (23): LogSoftmax()\n",
       ")"
      ]
     },
     "execution_count": 73,
     "metadata": {},
     "output_type": "execute_result"
    }
   ],
   "source": [
    "##### YOUR CODE HERE #####\n",
    "layers = []\n",
    "mean = 0\n",
    "std = 0.1\n",
    "layers.append(new_linear_layer(784, 500, mean=0, std=std))\n",
    "layers.append(nn.ReLU())\n",
    "for i in range(10):\n",
    "    layers.append(new_linear_layer(500, 500, mean=0, std=std))\n",
    "    layers.append(nn.ReLU())\n",
    "layers.append(new_linear_layer(500, 10, mean=0, std=std))\n",
    "layers.append(nn.LogSoftmax())\n",
    "network = nn.Sequential(*layers)\n",
    "network"
   ]
  },
  {
   "cell_type": "code",
   "execution_count": 88,
   "metadata": {
    "scrolled": false
   },
   "outputs": [
    {
     "name": "stdout",
     "output_type": "stream",
     "text": [
      "forward tensor(0.9966)\n",
      "forward tensor(1.6232)\n",
      "forward tensor(2.5275)\n",
      "forward tensor(4.0122)\n",
      "forward tensor(6.2841)\n",
      "forward tensor(9.4154)\n",
      "forward tensor(14.3021)\n",
      "forward tensor(23.3200)\n",
      "forward tensor(37.1619)\n",
      "forward tensor(54.5293)\n",
      "forward tensor(86.4847)\n",
      "forward tensor(137.9692)\n",
      "backward tensor(0.1954)\n",
      "backward tensor(0.0404)\n",
      "backward tensor(0.0556)\n",
      "backward tensor(0.0845)\n",
      "backward tensor(0.1187)\n",
      "backward tensor(0.1773)\n",
      "backward tensor(0.2794)\n",
      "backward tensor(0.3813)\n",
      "backward tensor(0.5465)\n",
      "backward tensor(0.7534)\n",
      "backward tensor(1.0604)\n",
      "backward tensor(1.5215)\n"
     ]
    }
   ],
   "source": [
    "#пример:\n",
    "n_objects = 100\n",
    "X = Variable(images_train[:n_objects], requires_grad=False).view(n_objects, -1)\n",
    "y = Variable(labels_train[:n_objects], requires_grad=False)\n",
    "activations = network(X)\n",
    "loss_fn = torch.nn.NLLLoss()\n",
    "optimizer = torch.optim.Adam(layer.parameters(), lr=0.001) \n",
    "loss = loss_fn(activations, y)\n",
    "loss.backward()"
   ]
  },
  {
   "cell_type": "markdown",
   "metadata": {},
   "source": [
    "<i>1.3 Повторите эксперимент для инициализаций He и Xavier (формулы есть в лекции).</i>"
   ]
  },
  {
   "cell_type": "code",
   "execution_count": 69,
   "metadata": {},
   "outputs": [],
   "source": [
    "##### YOUR CODE HERE #####\n",
    "def init_layer_Xavier(layer):\n",
    "    weight = layer.state_dict()['weight']\n",
    "    bias = layer.state_dict()['bias']\n",
    "    bias.zero_()\n",
    "    a = np.sqrt(6) / np.sqrt(weight.shape[0] + weight.shape[1])\n",
    "    weight.uniform_(-a, a)\n",
    "    \n",
    "def init_layer_He(layer):\n",
    "    weight = layer.state_dict()['weight']\n",
    "    bias = layer.state_dict()['bias']\n",
    "    bias.zero_()\n",
    "    weight.normal_(mean=0, std=np.sqrt(2/weight.shape[1]))\n",
    "\n",
    "def _linear_layer(input_size, output_size, init_layer):\n",
    "    layer = nn.Linear(input_size, output_size)\n",
    "    layer.register_forward_hook(forward_hook)\n",
    "    layer.register_backward_hook(backward_hook)\n",
    "    init_layer(layer)\n",
    "    return layer"
   ]
  },
  {
   "cell_type": "code",
   "execution_count": 80,
   "metadata": {},
   "outputs": [],
   "source": [
    "def check(init_layer, fun_activ):\n",
    "    layers = []\n",
    "    layers.append(_linear_layer(784, 500, init_layer))\n",
    "    layers.append(fun_activ())\n",
    "    for i in range(10):\n",
    "        layers.append(_linear_layer(500, 500, init_layer))\n",
    "        layers.append(fun_activ())\n",
    "    layers.append(_linear_layer(500, 10, init_layer))\n",
    "    layers.append(nn.LogSoftmax())\n",
    "    network = nn.Sequential(*layers)\n",
    "#     print(network)\n",
    "    \n",
    "    n_objects = 100\n",
    "    X = Variable(images_train[:n_objects], requires_grad=False).view(n_objects, -1)\n",
    "    y = Variable(labels_train[:n_objects], requires_grad=False)\n",
    "    activations = network(X)\n",
    "    loss_fn = torch.nn.NLLLoss()\n",
    "    optimizer = torch.optim.Adam(layer.parameters(), lr=0.001) \n",
    "    loss = loss_fn(activations, y)\n",
    "    loss.backward()"
   ]
  },
  {
   "cell_type": "markdown",
   "metadata": {},
   "source": [
    "#### Инициализация He функции ReLU и Tanh соответственно:"
   ]
  },
  {
   "cell_type": "code",
   "execution_count": 81,
   "metadata": {},
   "outputs": [
    {
     "name": "stdout",
     "output_type": "stream",
     "text": [
      "forward tensor(0.9966)\n",
      "forward tensor(0.8135)\n",
      "forward tensor(0.8244)\n",
      "forward tensor(0.8184)\n",
      "forward tensor(0.7844)\n",
      "forward tensor(0.7508)\n",
      "forward tensor(0.7943)\n",
      "forward tensor(0.8053)\n",
      "forward tensor(0.8585)\n",
      "forward tensor(0.8266)\n",
      "forward tensor(0.8488)\n",
      "forward tensor(0.8241)\n",
      "backward tensor(0.1074)\n",
      "backward tensor(0.0144)\n",
      "backward tensor(0.0126)\n",
      "backward tensor(0.0124)\n",
      "backward tensor(0.0124)\n",
      "backward tensor(0.0111)\n",
      "backward tensor(0.0108)\n",
      "backward tensor(0.0100)\n",
      "backward tensor(0.0094)\n",
      "backward tensor(0.0083)\n",
      "backward tensor(0.0078)\n",
      "backward tensor(0.0069)\n"
     ]
    }
   ],
   "source": [
    "check(init_layer_He, nn.ReLU)"
   ]
  },
  {
   "cell_type": "code",
   "execution_count": 87,
   "metadata": {},
   "outputs": [
    {
     "name": "stdout",
     "output_type": "stream",
     "text": [
      "forward tensor(0.9966)\n",
      "forward tensor(0.7065)\n",
      "forward tensor(0.6249)\n",
      "forward tensor(0.5930)\n",
      "forward tensor(0.5756)\n",
      "forward tensor(0.5652)\n",
      "forward tensor(0.5564)\n",
      "forward tensor(0.5548)\n",
      "forward tensor(0.5528)\n",
      "forward tensor(0.5526)\n",
      "forward tensor(0.5548)\n",
      "forward tensor(0.5558)\n",
      "backward tensor(0.0341)\n",
      "backward tensor(0.0050)\n",
      "backward tensor(0.0051)\n",
      "backward tensor(0.0058)\n",
      "backward tensor(0.0060)\n",
      "backward tensor(0.0065)\n",
      "backward tensor(0.0069)\n",
      "backward tensor(0.0072)\n",
      "backward tensor(0.0074)\n",
      "backward tensor(0.0076)\n",
      "backward tensor(0.0078)\n",
      "backward tensor(0.0066)\n"
     ]
    }
   ],
   "source": [
    "check(init_layer_He, nn.Tanh)"
   ]
  },
  {
   "cell_type": "markdown",
   "metadata": {},
   "source": [
    "#### Инициализация Xavier функции ReLU и Tanh соответственно:"
   ]
  },
  {
   "cell_type": "code",
   "execution_count": 83,
   "metadata": {},
   "outputs": [
    {
     "name": "stdout",
     "output_type": "stream",
     "text": [
      "forward tensor(0.9966)\n",
      "forward tensor(0.6788)\n",
      "forward tensor(0.4973)\n",
      "forward tensor(0.3601)\n",
      "forward tensor(0.2549)\n",
      "forward tensor(0.1792)\n",
      "forward tensor(0.1333)\n",
      "forward tensor(0.0958)\n",
      "forward tensor(0.0716)\n",
      "forward tensor(0.0478)\n",
      "forward tensor(0.0327)\n",
      "forward tensor(0.0239)\n",
      "backward tensor(0.0301)\n",
      "backward tensor(0.0045)\n",
      "backward tensor(0.0033)\n",
      "backward tensor(0.0022)\n",
      "backward tensor(0.0016)\n",
      "backward tensor(0.0012)\n",
      "backward tensor(0.0009)\n",
      "backward tensor(0.0006)\n",
      "backward tensor(0.0004)\n",
      "backward tensor(0.0003)\n",
      "backward tensor(0.0002)\n",
      "backward tensor(0.0001)\n"
     ]
    }
   ],
   "source": [
    "check(init_layer_Xavier, nn.ReLU)"
   ]
  },
  {
   "cell_type": "code",
   "execution_count": 86,
   "metadata": {},
   "outputs": [
    {
     "name": "stdout",
     "output_type": "stream",
     "text": [
      "forward tensor(0.9966)\n",
      "forward tensor(0.6504)\n",
      "forward tensor(0.4963)\n",
      "forward tensor(0.4168)\n",
      "forward tensor(0.3605)\n",
      "forward tensor(0.3219)\n",
      "forward tensor(0.2966)\n",
      "forward tensor(0.2784)\n",
      "forward tensor(0.2591)\n",
      "forward tensor(0.2483)\n",
      "forward tensor(0.2338)\n",
      "forward tensor(0.2191)\n",
      "backward tensor(0.0370)\n",
      "backward tensor(0.0067)\n",
      "backward tensor(0.0065)\n",
      "backward tensor(0.0061)\n",
      "backward tensor(0.0056)\n",
      "backward tensor(0.0052)\n",
      "backward tensor(0.0046)\n",
      "backward tensor(0.0039)\n",
      "backward tensor(0.0036)\n",
      "backward tensor(0.0031)\n",
      "backward tensor(0.0026)\n",
      "backward tensor(0.0018)\n"
     ]
    }
   ],
   "source": [
    "check(init_layer_Xavier, nn.Tanh)"
   ]
  },
  {
   "cell_type": "markdown",
   "metadata": {},
   "source": [
    "<i> 1.4 Сделайте выводы по первой части </i>"
   ]
  },
  {
   "cell_type": "markdown",
   "metadata": {},
   "source": [
    "Вцелом более умная инициализация выглядит адекватнее на фоне наивной инициализации. И так же эмпирически проверено, что Xavier для ReLU не очень хорошо работает, т.к. градиенты всё же затухают. Но во всех остальных случаях инициализация показала хороший результат.\n"
   ]
  },
  {
   "cell_type": "markdown",
   "metadata": {},
   "source": [
    "### Часть 2: Dropout"
   ]
  },
  {
   "cell_type": "markdown",
   "metadata": {},
   "source": [
    "Другим полезным слоем является Dropout. В нем с вероятностью 1-p зануляется выход каждого нейрона. Этот слой уже реализован в pyTorch, поэтому вновь реализовывать его не интересно. Давайте реализуем DropConnect — аналог Dropout. В нем с вероятностью 1-p зануляется каждый вес слоя."
   ]
  },
  {
   "cell_type": "markdown",
   "metadata": {},
   "source": [
    "<i> 2.1 Реализуйте линейный слой с DropConnect </i>"
   ]
  },
  {
   "cell_type": "code",
   "execution_count": 163,
   "metadata": {},
   "outputs": [
    {
     "name": "stdout",
     "output_type": "stream",
     "text": [
      "Epoch 9... (Train/Test) NLL: 0.026/0.102\tAccuracy: 0.991/0.974"
     ]
    },
    {
     "data": {
      "image/png": "[encoded data removed]",
      "text/plain": [
       "<matplotlib.figure.Figure at 0x1151feb10>"
      ]
     },
     "metadata": {},
     "output_type": "display_data"
    }
   ],
   "source": [
    "network = nn.Sequential(nn.Linear(784, 100),\n",
    "                        nn.ReLU(),\n",
    "                        nn.Linear(100, 100),\n",
    "                        nn.ReLU(),\n",
    "                        nn.Linear(100, 10),\n",
    "                        nn.LogSoftmax())\n",
    "\n",
    "train_utils.train(network, train_loader, test_loader, 10, 0.001, ravel_init=True)"
   ]
  },
  {
   "cell_type": "code",
   "execution_count": 164,
   "metadata": {},
   "outputs": [
    {
     "name": "stdout",
     "output_type": "stream",
     "text": [
      "Epoch 9... (Train/Test) NLL: 0.208/0.109\tAccuracy: 0.939/0.968"
     ]
    },
    {
     "data": {
      "image/png": "[encoded data removed]",
      "text/plain": [
       "<matplotlib.figure.Figure at 0x114ffec10>"
      ]
     },
     "metadata": {},
     "output_type": "display_data"
    }
   ],
   "source": [
    "network = nn.Sequential(nn.Linear(784, 100),\n",
    "                        nn.Dropout(0.5),\n",
    "                        nn.ReLU(),\n",
    "                        nn.Linear(100, 100),\n",
    "                        nn.Dropout(0.5),\n",
    "                        nn.ReLU(),\n",
    "                        nn.Linear(100, 10),\n",
    "                        nn.LogSoftmax())\n",
    "\n",
    "train_utils.train(network, train_loader, test_loader, 10, 0.001, ravel_init=True)"
   ]
  },
  {
   "cell_type": "code",
   "execution_count": 90,
   "metadata": {},
   "outputs": [],
   "source": [
    "# полезная функция: .bernoulli_(p)\n",
    "# не забывайте делать requires_grad=False у маски\n",
    "# помните, что в вычислениях должны участвовать Variable, а не тензоры\n",
    "\n",
    "class DropConnect(nn.Module):\n",
    "    def __init__(self, input_dim, output_dim, p=0.5, mean=0, std=0.01):\n",
    "        super(DropConnect, self).__init__()\n",
    "        self.weight = nn.Parameter(torch.Tensor(input_dim, output_dim).normal_(mean=mean, std=std), requires_grad=True)\n",
    "        self.bias = nn.Parameter(torch.Tensor(1, output_dim).zero_(), requires_grad=True)\n",
    "        self.p = p\n",
    "\n",
    "    def forward(self, x):\n",
    "        if self.training:\n",
    "            mask = torch.zeros(self.weight.size())+(1-self.p)\n",
    "            mask = torch.bernoulli(mask)\n",
    "        else:\n",
    "            mask = torch.ones(self.weight.size())*self.p\n",
    "        mask = Variable(mask, requires_grad=False)\n",
    "        output = torch.mm(x, self.weight*mask)+self.bias\n",
    "        return output"
   ]
  },
  {
   "cell_type": "code",
   "execution_count": 91,
   "metadata": {},
   "outputs": [
    {
     "ename": "IndexError",
     "evalue": "invalid index of a 0-dim tensor. Use tensor.item() to convert a 0-dim tensor to a Python number",
     "output_type": "error",
     "traceback": [
      "\u001b[0;31m---------------------------------------------------------------------------\u001b[0m",
      "\u001b[0;31mIndexError\u001b[0m                                Traceback (most recent call last)",
      "\u001b[0;32m<ipython-input-91-18a78d1faaa1>\u001b[0m in \u001b[0;36m<module>\u001b[0;34m()\u001b[0m\n\u001b[1;32m      6\u001b[0m                         nn.LogSoftmax())\n\u001b[1;32m      7\u001b[0m \u001b[0;34m\u001b[0m\u001b[0m\n\u001b[0;32m----> 8\u001b[0;31m \u001b[0mtrain_utils\u001b[0m\u001b[0;34m.\u001b[0m\u001b[0mtrain\u001b[0m\u001b[0;34m(\u001b[0m\u001b[0mnetwork\u001b[0m\u001b[0;34m,\u001b[0m \u001b[0mtrain_loader\u001b[0m\u001b[0;34m,\u001b[0m \u001b[0mtest_loader\u001b[0m\u001b[0;34m,\u001b[0m \u001b[0;36m10\u001b[0m\u001b[0;34m,\u001b[0m \u001b[0;36m0.001\u001b[0m\u001b[0;34m,\u001b[0m \u001b[0mravel_init\u001b[0m\u001b[0;34m=\u001b[0m\u001b[0;32mTrue\u001b[0m\u001b[0;34m)\u001b[0m\u001b[0;34m\u001b[0m\u001b[0m\n\u001b[0m",
      "\u001b[0;32m~/homeworks_techosphere/neural_networks/NeuralNetworks/seminar 5(не сделано)/train_utils.py\u001b[0m in \u001b[0;36mtrain\u001b[0;34m(network, train_loader, test_loader, epochs, learning_rate, ravel_init)\u001b[0m\n\u001b[1;32m     31\u001b[0m                 \u001b[0mprediction\u001b[0m \u001b[0;34m=\u001b[0m \u001b[0mnetwork\u001b[0m\u001b[0;34m(\u001b[0m\u001b[0mX\u001b[0m\u001b[0;34m)\u001b[0m\u001b[0;34m\u001b[0m\u001b[0m\n\u001b[1;32m     32\u001b[0m                 \u001b[0mloss_batch\u001b[0m \u001b[0;34m=\u001b[0m \u001b[0mloss\u001b[0m\u001b[0;34m(\u001b[0m\u001b[0mprediction\u001b[0m\u001b[0;34m,\u001b[0m \u001b[0my\u001b[0m\u001b[0;34m)\u001b[0m\u001b[0;34m\u001b[0m\u001b[0m\n\u001b[0;32m---> 33\u001b[0;31m                 \u001b[0mlosses\u001b[0m\u001b[0;34m.\u001b[0m\u001b[0mappend\u001b[0m\u001b[0;34m(\u001b[0m\u001b[0mloss_batch\u001b[0m\u001b[0;34m.\u001b[0m\u001b[0mdata\u001b[0m\u001b[0;34m[\u001b[0m\u001b[0;36m0\u001b[0m\u001b[0;34m]\u001b[0m\u001b[0;34m)\u001b[0m\u001b[0;34m\u001b[0m\u001b[0m\n\u001b[0m\u001b[1;32m     34\u001b[0m                 \u001b[0mloss_batch\u001b[0m\u001b[0;34m.\u001b[0m\u001b[0mbackward\u001b[0m\u001b[0;34m(\u001b[0m\u001b[0;34m)\u001b[0m\u001b[0;34m\u001b[0m\u001b[0m\n\u001b[1;32m     35\u001b[0m                 \u001b[0moptimizer\u001b[0m\u001b[0;34m.\u001b[0m\u001b[0mstep\u001b[0m\u001b[0;34m(\u001b[0m\u001b[0;34m)\u001b[0m\u001b[0;34m\u001b[0m\u001b[0m\n",
      "\u001b[0;31mIndexError\u001b[0m: invalid index of a 0-dim tensor. Use tensor.item() to convert a 0-dim tensor to a Python number"
     ]
    }
   ],
   "source": [
    "network = nn.Sequential(DropConnect(784, 100, p=0.5),\n",
    "                        nn.ReLU(),\n",
    "                        DropConnect(100, 100, p=0.5),\n",
    "                        nn.ReLU(),\n",
    "                        nn.Linear(100, 10),\n",
    "                        nn.LogSoftmax())\n",
    "\n",
    "train_utils.train(network, train_loader, test_loader, 10, 0.001, ravel_init=True)"
   ]
  },
  {
   "cell_type": "markdown",
   "metadata": {},
   "source": [
    "<i> \n",
    "2.2 Сравните графики обучения нейроных сетей:\n",
    "1. 784 -> 200 -> 200 -> 10 с ReLU и Dropout между всеми слоями \n",
    "2. 784 -> 200 -> 200 -> 10 с ReLU DropConnect вместо всех линейных слоев\n",
    "</i>"
   ]
  },
  {
   "cell_type": "code",
   "execution_count": null,
   "metadata": {
    "collapsed": true
   },
   "outputs": [],
   "source": [
    "##### YOUR CODE HERE #####\n",
    "\n"
   ]
  },
  {
   "cell_type": "markdown",
   "metadata": {},
   "source": [
    "<i> 2.3 Сделайте выводы по третьей части </i>"
   ]
  },
  {
   "cell_type": "raw",
   "metadata": {},
   "source": []
  },
  {
   "cell_type": "markdown",
   "metadata": {},
   "source": [
    "В test-time стохастичность Dropout убирают и заменяют все веса на их ожидаемое значение: $\\mathbb{E}w = pw + (1-p)0 = pw$."
   ]
  },
  {
   "cell_type": "markdown",
   "metadata": {},
   "source": [
    "### Часть 3: Batch Normalization"
   ]
  },
  {
   "cell_type": "markdown",
   "metadata": {},
   "source": [
    "Наконец, давайте рассмотрим Batch Normalization. Этот слой вычитает среднее и делит на стандартное отклонение. Среднее и дисперсия вычисляются по батчу независимо для каждого нейрона. У этого слоя есть две важные проблемы: его нельзя использовать при обучении с размером батча 1 и он делает элементы батча зависимыми. Давайте реализуем аналог батч нормализации: <a href=https://arxiv.org/pdf/1607.06450.pdf>Layer normalization</a>. В layer normalization среднее и дисперсия вычисляются по активациям нейронов, независимо для каждого объекта."
   ]
  },
  {
   "cell_type": "markdown",
   "metadata": {},
   "source": [
    "<i> 3.1 Реализуйте Layer Normalization </i>"
   ]
  },
  {
   "cell_type": "code",
   "execution_count": 137,
   "metadata": {
    "collapsed": true
   },
   "outputs": [],
   "source": [
    "# полезные функции: .std(dim), .mean(dim)\n",
    "\n",
    "class LayerNormalization(nn.Module):\n",
    "    def forward(self, x):\n",
    "        output = ##### YOUR CODE HERE #####\n",
    "        return output"
   ]
  },
  {
   "cell_type": "markdown",
   "metadata": {},
   "source": [
    "<i> \n",
    "3.2 Сравните графики обучения нейроных сетей:\n",
    "1. 784 -> 200 -> 200 -> 10 с ReLU и Batch normalization между всеми слоями \n",
    "2. 784 -> 200 -> 200 -> 10 с ReLU и Layer normalization между всеми слоями \n",
    "</i>"
   ]
  },
  {
   "cell_type": "code",
   "execution_count": null,
   "metadata": {
    "collapsed": true
   },
   "outputs": [],
   "source": [
    "##### YOUR CODE HERE #####"
   ]
  },
  {
   "cell_type": "markdown",
   "metadata": {},
   "source": [
    "<i> 3.3 Сделайте выводы по третьей части </i>"
   ]
  },
  {
   "cell_type": "raw",
   "metadata": {},
   "source": []
  },
  {
   "cell_type": "markdown",
   "metadata": {},
   "source": [
    "#### Feedback (опционально)"
   ]
  },
  {
   "cell_type": "markdown",
   "metadata": {},
   "source": [
    "Здесь вы можете оставить список опечаток из лекции или семинара:"
   ]
  },
  {
   "cell_type": "raw",
   "metadata": {},
   "source": []
  },
  {
   "cell_type": "markdown",
   "metadata": {},
   "source": [
    "Здесь вы можете оставить комментарии по лекции или семинару:"
   ]
  },
  {
   "cell_type": "raw",
   "metadata": {},
   "source": []
  }
 ],
 "metadata": {
  "kernelspec": {
   "display_name": "Python 3",
   "language": "python",
   "name": "python3"
  },
  "language_info": {
   "codemirror_mode": {
    "name": "ipython",
    "version": 3
   },
   "file_extension": ".py",
   "mimetype": "text/x-python",
   "name": "python",
   "nbconvert_exporter": "python",
   "pygments_lexer": "ipython3",
   "version": "3.6.5"
  },
  "latex_envs": {
   "bibliofile": "biblio.bib",
   "cite_by": "apalike",
   "current_citInitial": 1,
   "eqLabelWithNumbers": true,
   "eqNumInitial": 0
  }
 },
 "nbformat": 4,
 "nbformat_minor": 1
}
